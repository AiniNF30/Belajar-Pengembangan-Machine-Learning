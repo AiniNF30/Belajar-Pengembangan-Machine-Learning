{
  "nbformat": 4,
  "nbformat_minor": 0,
  "metadata": {
    "colab": {
      "provenance": []
    },
    "kernelspec": {
      "name": "python3",
      "display_name": "Python 3"
    },
    "language_info": {
      "name": "python"
    }
  },
  "cells": [
    {
      "cell_type": "markdown",
      "source": [
        "Name : Aini Nurpadilah \n",
        "Address : Bekasi"
      ],
      "metadata": {
        "id": "_SHHstiyv9vl"
      }
    },
    {
      "cell_type": "code",
      "source": [
        "! pip install kaggle"
      ],
      "metadata": {
        "colab": {
          "base_uri": "https://localhost:8080/"
        },
        "id": "Mqc-tEtKwUCW",
        "outputId": "116b91a0-7cf1-4b75-c539-309320c8c60f"
      },
      "execution_count": null,
      "outputs": [
        {
          "output_type": "stream",
          "name": "stdout",
          "text": [
            "Looking in indexes: https://pypi.org/simple, https://us-python.pkg.dev/colab-wheels/public/simple/\n",
            "Requirement already satisfied: kaggle in /usr/local/lib/python3.7/dist-packages (1.5.12)\n",
            "Requirement already satisfied: certifi in /usr/local/lib/python3.7/dist-packages (from kaggle) (2022.9.24)\n",
            "Requirement already satisfied: six>=1.10 in /usr/local/lib/python3.7/dist-packages (from kaggle) (1.15.0)\n",
            "Requirement already satisfied: urllib3 in /usr/local/lib/python3.7/dist-packages (from kaggle) (1.24.3)\n",
            "Requirement already satisfied: requests in /usr/local/lib/python3.7/dist-packages (from kaggle) (2.23.0)\n",
            "Requirement already satisfied: python-dateutil in /usr/local/lib/python3.7/dist-packages (from kaggle) (2.8.2)\n",
            "Requirement already satisfied: python-slugify in /usr/local/lib/python3.7/dist-packages (from kaggle) (6.1.2)\n",
            "Requirement already satisfied: tqdm in /usr/local/lib/python3.7/dist-packages (from kaggle) (4.64.1)\n",
            "Requirement already satisfied: text-unidecode>=1.3 in /usr/local/lib/python3.7/dist-packages (from python-slugify->kaggle) (1.3)\n",
            "Requirement already satisfied: idna<3,>=2.5 in /usr/local/lib/python3.7/dist-packages (from requests->kaggle) (2.10)\n",
            "Requirement already satisfied: chardet<4,>=3.0.2 in /usr/local/lib/python3.7/dist-packages (from requests->kaggle) (3.0.4)\n"
          ]
        }
      ]
    },
    {
      "cell_type": "code",
      "source": [
        "from google.colab import drive\n",
        "drive.mount('/content/gdrive')"
      ],
      "metadata": {
        "colab": {
          "base_uri": "https://localhost:8080/"
        },
        "id": "uH09m8c0wc36",
        "outputId": "3129c5b0-5038-480a-c9aa-d24b2ba45650"
      },
      "execution_count": null,
      "outputs": [
        {
          "output_type": "stream",
          "name": "stdout",
          "text": [
            "Drive already mounted at /content/gdrive; to attempt to forcibly remount, call drive.mount(\"/content/gdrive\", force_remount=True).\n"
          ]
        }
      ]
    },
    {
      "cell_type": "code",
      "source": [
        "import os\n",
        "os.environ['KAGGLE_CONFIG_DIR'] = \"/content/gdrive/My Drive/Kaggle\""
      ],
      "metadata": {
        "id": "c22DdeMbwj9R"
      },
      "execution_count": null,
      "outputs": []
    },
    {
      "cell_type": "code",
      "source": [
        "%cd /content/gdrive/My Drive/Kaggle"
      ],
      "metadata": {
        "colab": {
          "base_uri": "https://localhost:8080/"
        },
        "id": "vqm95c7XxD6x",
        "outputId": "ceb28705-6bb9-40d9-d4bf-5201d7475840"
      },
      "execution_count": null,
      "outputs": [
        {
          "output_type": "stream",
          "name": "stdout",
          "text": [
            "/content/gdrive/My Drive/Kaggle\n"
          ]
        }
      ]
    },
    {
      "cell_type": "code",
      "source": [
        "!kaggle datasets download -d rajatrc1705/youtube-videos-dataset"
      ],
      "metadata": {
        "colab": {
          "base_uri": "https://localhost:8080/"
        },
        "id": "0lVDbFH5x_kT",
        "outputId": "ee8b468e-b9ad-4df5-ebb3-4c1b7226a40f"
      },
      "execution_count": null,
      "outputs": [
        {
          "output_type": "stream",
          "name": "stdout",
          "text": [
            "youtube-videos-dataset.zip: Skipping, found more recently modified local copy (use --force to force download)\n"
          ]
        }
      ]
    },
    {
      "cell_type": "code",
      "source": [
        "!unzip \\*.zip \n"
      ],
      "metadata": {
        "colab": {
          "base_uri": "https://localhost:8080/"
        },
        "id": "oVRChGA7yJ9p",
        "outputId": "e8581706-284b-4302-b999-9c8e166af03c"
      },
      "execution_count": null,
      "outputs": [
        {
          "output_type": "stream",
          "name": "stdout",
          "text": [
            "Archive:  youtube-videos-dataset.zip\n",
            "replace youtube.csv? [y]es, [n]o, [A]ll, [N]one, [r]ename: n\n"
          ]
        }
      ]
    },
    {
      "cell_type": "code",
      "source": [
        "import tensorflow as tf\n",
        "import pandas as pd\n",
        "import numpy as np\n",
        "import matplotlib.pyplot as plt\n",
        "import seaborn as sns\n",
        "from tensorflow.keras.preprocessing.text import Tokenizer\n",
        "from tensorflow.keras.preprocessing.sequence import pad_sequences\n",
        "from sklearn.preprocessing import LabelEncoder\n",
        "from sklearn.model_selection import train_test_split\n",
        "from keras.models import Sequential, load_model\n",
        "from keras.layers import Dense, Embedding, LSTM, Bidirectional,Flatten,Dropout\n",
        "from keras.utils.np_utils import to_categorical\n",
        "import re\n",
        "\n",
        "%load_ext tensorboard"
      ],
      "metadata": {
        "colab": {
          "base_uri": "https://localhost:8080/"
        },
        "id": "2glyDBtuBB6k",
        "outputId": "9cba6f19-9418-4b5d-ede7-e16e6e3257b1"
      },
      "execution_count": null,
      "outputs": [
        {
          "output_type": "stream",
          "name": "stdout",
          "text": [
            "The tensorboard extension is already loaded. To reload it, use:\n",
            "  %reload_ext tensorboard\n"
          ]
        }
      ]
    },
    {
      "cell_type": "code",
      "source": [
        "df = pd.read_csv('/content/gdrive/MyDrive/Kaggle/youtube.csv')\n",
        "df"
      ],
      "metadata": {
        "colab": {
          "base_uri": "https://localhost:8080/",
          "height": 424
        },
        "id": "kb2iV-QXBuvH",
        "outputId": "0dfc7776-2e86-4d22-d9d7-19bf6f3ce55c"
      },
      "execution_count": null,
      "outputs": [
        {
          "output_type": "execute_result",
          "data": {
            "text/plain": [
              "             link                                              title  \\\n",
              "0         JLZlCZ0  Ep 1| Travelling through North East India | Of...   \n",
              "1     i9E_Blai8vk      Welcome to Bali | Travel Vlog | Priscilla Lee   \n",
              "2      r284c-q8oY  My Solo Trip to ALASKA | Cruising From Vancouv...   \n",
              "3      Qmi-Xwq-ME   Traveling to the Happiest Country in the World!!   \n",
              "4     _lcOX55Ef70  Solo in Paro Bhutan | Tiger's Nest visit | Bhu...   \n",
              "...           ...                                                ...   \n",
              "3594       #NAME?  21st Century Challenges: Crash Course European...   \n",
              "3595  d-2Trw8bCa0  EU DataViz webinar - Barnaby Skinner - How to ...   \n",
              "3596    RCKWarkUL  Stone Age Scandinavia: First People In the Nor...   \n",
              "3597   MF6F3BxJIY  AP European History - Interwar Period: Paris P...   \n",
              "3598   lByKodp_UK  World War 2 Allied Conferences: AP European Hi...   \n",
              "\n",
              "                                            description category  \n",
              "0     Tanya Khanijow\\n671K subscribers\\nSUBSCRIBE\\nT...   travel  \n",
              "1     Priscilla Lee\\n45.6K subscribers\\nSUBSCRIBE\\n*...   travel  \n",
              "2     Allison Anderson\\n588K subscribers\\nSUBSCRIBE\\...   travel  \n",
              "3     Yes Theory\\n6.65M subscribers\\nSUBSCRIBE\\n*BLA...   travel  \n",
              "4     Tanya Khanijow\\n671K subscribers\\nSUBSCRIBE\\nH...   travel  \n",
              "...                                                 ...      ...  \n",
              "3594  CrashCourse\\n12.4M subscribers\\nSUBSCRIBE\\nThe...  history  \n",
              "3595  Publications Office of the European Union\\n3.2...  history  \n",
              "3596  History Time\\n619K subscribers\\nSUBSCRIBE\\n- W...  history  \n",
              "3597  Mr. Raymond's Civics and Social Studies Academ...  history  \n",
              "3598  Paul Sargent\\n25.3K subscribers\\nSUBSCRIBE\\nIn...  history  \n",
              "\n",
              "[3599 rows x 4 columns]"
            ],
            "text/html": [
              "\n",
              "  <div id=\"df-e4d331ba-6ba4-4653-bf63-15545f5af9a7\">\n",
              "    <div class=\"colab-df-container\">\n",
              "      <div>\n",
              "<style scoped>\n",
              "    .dataframe tbody tr th:only-of-type {\n",
              "        vertical-align: middle;\n",
              "    }\n",
              "\n",
              "    .dataframe tbody tr th {\n",
              "        vertical-align: top;\n",
              "    }\n",
              "\n",
              "    .dataframe thead th {\n",
              "        text-align: right;\n",
              "    }\n",
              "</style>\n",
              "<table border=\"1\" class=\"dataframe\">\n",
              "  <thead>\n",
              "    <tr style=\"text-align: right;\">\n",
              "      <th></th>\n",
              "      <th>link</th>\n",
              "      <th>title</th>\n",
              "      <th>description</th>\n",
              "      <th>category</th>\n",
              "    </tr>\n",
              "  </thead>\n",
              "  <tbody>\n",
              "    <tr>\n",
              "      <th>0</th>\n",
              "      <td>JLZlCZ0</td>\n",
              "      <td>Ep 1| Travelling through North East India | Of...</td>\n",
              "      <td>Tanya Khanijow\\n671K subscribers\\nSUBSCRIBE\\nT...</td>\n",
              "      <td>travel</td>\n",
              "    </tr>\n",
              "    <tr>\n",
              "      <th>1</th>\n",
              "      <td>i9E_Blai8vk</td>\n",
              "      <td>Welcome to Bali | Travel Vlog | Priscilla Lee</td>\n",
              "      <td>Priscilla Lee\\n45.6K subscribers\\nSUBSCRIBE\\n*...</td>\n",
              "      <td>travel</td>\n",
              "    </tr>\n",
              "    <tr>\n",
              "      <th>2</th>\n",
              "      <td>r284c-q8oY</td>\n",
              "      <td>My Solo Trip to ALASKA | Cruising From Vancouv...</td>\n",
              "      <td>Allison Anderson\\n588K subscribers\\nSUBSCRIBE\\...</td>\n",
              "      <td>travel</td>\n",
              "    </tr>\n",
              "    <tr>\n",
              "      <th>3</th>\n",
              "      <td>Qmi-Xwq-ME</td>\n",
              "      <td>Traveling to the Happiest Country in the World!!</td>\n",
              "      <td>Yes Theory\\n6.65M subscribers\\nSUBSCRIBE\\n*BLA...</td>\n",
              "      <td>travel</td>\n",
              "    </tr>\n",
              "    <tr>\n",
              "      <th>4</th>\n",
              "      <td>_lcOX55Ef70</td>\n",
              "      <td>Solo in Paro Bhutan | Tiger's Nest visit | Bhu...</td>\n",
              "      <td>Tanya Khanijow\\n671K subscribers\\nSUBSCRIBE\\nH...</td>\n",
              "      <td>travel</td>\n",
              "    </tr>\n",
              "    <tr>\n",
              "      <th>...</th>\n",
              "      <td>...</td>\n",
              "      <td>...</td>\n",
              "      <td>...</td>\n",
              "      <td>...</td>\n",
              "    </tr>\n",
              "    <tr>\n",
              "      <th>3594</th>\n",
              "      <td>#NAME?</td>\n",
              "      <td>21st Century Challenges: Crash Course European...</td>\n",
              "      <td>CrashCourse\\n12.4M subscribers\\nSUBSCRIBE\\nThe...</td>\n",
              "      <td>history</td>\n",
              "    </tr>\n",
              "    <tr>\n",
              "      <th>3595</th>\n",
              "      <td>d-2Trw8bCa0</td>\n",
              "      <td>EU DataViz webinar - Barnaby Skinner - How to ...</td>\n",
              "      <td>Publications Office of the European Union\\n3.2...</td>\n",
              "      <td>history</td>\n",
              "    </tr>\n",
              "    <tr>\n",
              "      <th>3596</th>\n",
              "      <td>RCKWarkUL</td>\n",
              "      <td>Stone Age Scandinavia: First People In the Nor...</td>\n",
              "      <td>History Time\\n619K subscribers\\nSUBSCRIBE\\n- W...</td>\n",
              "      <td>history</td>\n",
              "    </tr>\n",
              "    <tr>\n",
              "      <th>3597</th>\n",
              "      <td>MF6F3BxJIY</td>\n",
              "      <td>AP European History - Interwar Period: Paris P...</td>\n",
              "      <td>Mr. Raymond's Civics and Social Studies Academ...</td>\n",
              "      <td>history</td>\n",
              "    </tr>\n",
              "    <tr>\n",
              "      <th>3598</th>\n",
              "      <td>lByKodp_UK</td>\n",
              "      <td>World War 2 Allied Conferences: AP European Hi...</td>\n",
              "      <td>Paul Sargent\\n25.3K subscribers\\nSUBSCRIBE\\nIn...</td>\n",
              "      <td>history</td>\n",
              "    </tr>\n",
              "  </tbody>\n",
              "</table>\n",
              "<p>3599 rows × 4 columns</p>\n",
              "</div>\n",
              "      <button class=\"colab-df-convert\" onclick=\"convertToInteractive('df-e4d331ba-6ba4-4653-bf63-15545f5af9a7')\"\n",
              "              title=\"Convert this dataframe to an interactive table.\"\n",
              "              style=\"display:none;\">\n",
              "        \n",
              "  <svg xmlns=\"http://www.w3.org/2000/svg\" height=\"24px\"viewBox=\"0 0 24 24\"\n",
              "       width=\"24px\">\n",
              "    <path d=\"M0 0h24v24H0V0z\" fill=\"none\"/>\n",
              "    <path d=\"M18.56 5.44l.94 2.06.94-2.06 2.06-.94-2.06-.94-.94-2.06-.94 2.06-2.06.94zm-11 1L8.5 8.5l.94-2.06 2.06-.94-2.06-.94L8.5 2.5l-.94 2.06-2.06.94zm10 10l.94 2.06.94-2.06 2.06-.94-2.06-.94-.94-2.06-.94 2.06-2.06.94z\"/><path d=\"M17.41 7.96l-1.37-1.37c-.4-.4-.92-.59-1.43-.59-.52 0-1.04.2-1.43.59L10.3 9.45l-7.72 7.72c-.78.78-.78 2.05 0 2.83L4 21.41c.39.39.9.59 1.41.59.51 0 1.02-.2 1.41-.59l7.78-7.78 2.81-2.81c.8-.78.8-2.07 0-2.86zM5.41 20L4 18.59l7.72-7.72 1.47 1.35L5.41 20z\"/>\n",
              "  </svg>\n",
              "      </button>\n",
              "      \n",
              "  <style>\n",
              "    .colab-df-container {\n",
              "      display:flex;\n",
              "      flex-wrap:wrap;\n",
              "      gap: 12px;\n",
              "    }\n",
              "\n",
              "    .colab-df-convert {\n",
              "      background-color: #E8F0FE;\n",
              "      border: none;\n",
              "      border-radius: 50%;\n",
              "      cursor: pointer;\n",
              "      display: none;\n",
              "      fill: #1967D2;\n",
              "      height: 32px;\n",
              "      padding: 0 0 0 0;\n",
              "      width: 32px;\n",
              "    }\n",
              "\n",
              "    .colab-df-convert:hover {\n",
              "      background-color: #E2EBFA;\n",
              "      box-shadow: 0px 1px 2px rgba(60, 64, 67, 0.3), 0px 1px 3px 1px rgba(60, 64, 67, 0.15);\n",
              "      fill: #174EA6;\n",
              "    }\n",
              "\n",
              "    [theme=dark] .colab-df-convert {\n",
              "      background-color: #3B4455;\n",
              "      fill: #D2E3FC;\n",
              "    }\n",
              "\n",
              "    [theme=dark] .colab-df-convert:hover {\n",
              "      background-color: #434B5C;\n",
              "      box-shadow: 0px 1px 3px 1px rgba(0, 0, 0, 0.15);\n",
              "      filter: drop-shadow(0px 1px 2px rgba(0, 0, 0, 0.3));\n",
              "      fill: #FFFFFF;\n",
              "    }\n",
              "  </style>\n",
              "\n",
              "      <script>\n",
              "        const buttonEl =\n",
              "          document.querySelector('#df-e4d331ba-6ba4-4653-bf63-15545f5af9a7 button.colab-df-convert');\n",
              "        buttonEl.style.display =\n",
              "          google.colab.kernel.accessAllowed ? 'block' : 'none';\n",
              "\n",
              "        async function convertToInteractive(key) {\n",
              "          const element = document.querySelector('#df-e4d331ba-6ba4-4653-bf63-15545f5af9a7');\n",
              "          const dataTable =\n",
              "            await google.colab.kernel.invokeFunction('convertToInteractive',\n",
              "                                                     [key], {});\n",
              "          if (!dataTable) return;\n",
              "\n",
              "          const docLinkHtml = 'Like what you see? Visit the ' +\n",
              "            '<a target=\"_blank\" href=https://colab.research.google.com/notebooks/data_table.ipynb>data table notebook</a>'\n",
              "            + ' to learn more about interactive tables.';\n",
              "          element.innerHTML = '';\n",
              "          dataTable['output_type'] = 'display_data';\n",
              "          await google.colab.output.renderOutput(dataTable, element);\n",
              "          const docLink = document.createElement('div');\n",
              "          docLink.innerHTML = docLinkHtml;\n",
              "          element.appendChild(docLink);\n",
              "        }\n",
              "      </script>\n",
              "    </div>\n",
              "  </div>\n",
              "  "
            ]
          },
          "metadata": {},
          "execution_count": 86
        }
      ]
    },
    {
      "cell_type": "code",
      "source": [
        "df['category'].value_counts()"
      ],
      "metadata": {
        "colab": {
          "base_uri": "https://localhost:8080/"
        },
        "id": "I4hv4e5ACehl",
        "outputId": "1e3b352b-39aa-4c45-9320-af37011bf7d0"
      },
      "execution_count": null,
      "outputs": [
        {
          "output_type": "execute_result",
          "data": {
            "text/plain": [
              "travel       1156\n",
              "art_music     947\n",
              "food          903\n",
              "history       593\n",
              "Name: category, dtype: int64"
            ]
          },
          "metadata": {},
          "execution_count": 87
        }
      ]
    },
    {
      "cell_type": "code",
      "source": [
        "category = pd.get_dummies(df.category)\n",
        "df_new = pd.concat([df, category], axis=1)\n",
        "df_new =  df_new.drop(columns='category')"
      ],
      "metadata": {
        "id": "EUKesjwBCkkK"
      },
      "execution_count": null,
      "outputs": []
    },
    {
      "cell_type": "code",
      "source": [
        "title = df_new['title'].values\n",
        "label = df_new[['history', 'food', 'art_music', 'travel']].values"
      ],
      "metadata": {
        "id": "uVJu1aA3Crl6"
      },
      "execution_count": null,
      "outputs": []
    },
    {
      "cell_type": "code",
      "source": [
        "title_train, title_test, label_train, label_test = train_test_split(title, label, test_size=0.2)"
      ],
      "metadata": {
        "id": "r8b-H9WDFhBL"
      },
      "execution_count": null,
      "outputs": []
    },
    {
      "cell_type": "code",
      "source": [
        "# Techniques Data\n",
        "max_words = 2000\n",
        "\n",
        "tokenizer = Tokenizer(num_words=max_words, oov_token='x')\n",
        "\n",
        "tokenizer.fit_on_texts(title_train)\n",
        "sequences_train = tokenizer.texts_to_sequences(title_train)\n",
        "sequences_test = tokenizer.texts_to_sequences(title_test)\n",
        "\n",
        "padded_train = pad_sequences(sequences_train) \n",
        "padded_test = pad_sequences(sequences_test)"
      ],
      "metadata": {
        "id": "cpcnrq0wFwWJ"
      },
      "execution_count": null,
      "outputs": []
    },
    {
      "cell_type": "markdown",
      "source": [
        "Membangun model Sequential dengan Embedding dan LSTM."
      ],
      "metadata": {
        "id": "AnGn0po-J0J6"
      }
    },
    {
      "cell_type": "code",
      "source": [
        "model = tf.keras.Sequential([\n",
        "                    Embedding(input_dim=5000, output_dim=32),\n",
        "                    LSTM(64),\n",
        "                    Dense(256, activation='relu'),\n",
        "                    Dropout(0.5),\n",
        "                    Dense(128, activation='relu'),\n",
        "                    Dropout(0.5),\n",
        "                    Dense(64, activation='relu'),\n",
        "                    Dropout(0.5),\n",
        "                    Dense(4, activation='softmax')\n",
        "                    ])\n",
        "model.compile(loss='categorical_crossentropy',optimizer='adam',metrics=['accuracy'])"
      ],
      "metadata": {
        "id": "AKVXtzXsFzp_"
      },
      "execution_count": null,
      "outputs": []
    },
    {
      "cell_type": "code",
      "source": [
        "tensorboard_callback = tf.keras.callbacks.TensorBoard(log_dir=\"logs\")"
      ],
      "metadata": {
        "id": "aVKXVTArF-Gy"
      },
      "execution_count": null,
      "outputs": []
    },
    {
      "cell_type": "markdown",
      "source": [
        "melatih model dengan memanggil fungsi fit()."
      ],
      "metadata": {
        "id": "S6WSShGFHs8C"
      }
    },
    {
      "cell_type": "code",
      "source": [
        "num_epochs = 30\n",
        "history = model.fit(padded_train, \n",
        "                    label_train, \n",
        "                    epochs=num_epochs, \n",
        "                    validation_data=(padded_test, label_test), \n",
        "                    verbose=2, \n",
        "                    callbacks = [tensorboard_callback])"
      ],
      "metadata": {
        "colab": {
          "base_uri": "https://localhost:8080/"
        },
        "id": "JsTWu-ltGEVS",
        "outputId": "d961a98e-9742-4176-fb21-127dfe34be8f"
      },
      "execution_count": null,
      "outputs": [
        {
          "output_type": "stream",
          "name": "stdout",
          "text": [
            "Epoch 1/30\n",
            "90/90 - 5s - loss: 1.1365 - accuracy: 0.4349 - val_loss: 0.4281 - val_accuracy: 0.8069 - 5s/epoch - 52ms/step\n",
            "Epoch 2/30\n",
            "90/90 - 2s - loss: 0.2785 - accuracy: 0.9093 - val_loss: 0.0877 - val_accuracy: 0.9667 - 2s/epoch - 17ms/step\n",
            "Epoch 3/30\n",
            "90/90 - 2s - loss: 0.1001 - accuracy: 0.9760 - val_loss: 0.0837 - val_accuracy: 0.9764 - 2s/epoch - 18ms/step\n",
            "Epoch 4/30\n",
            "90/90 - 2s - loss: 0.0623 - accuracy: 0.9844 - val_loss: 0.1421 - val_accuracy: 0.9528 - 2s/epoch - 17ms/step\n",
            "Epoch 5/30\n",
            "90/90 - 1s - loss: 0.0598 - accuracy: 0.9854 - val_loss: 0.1092 - val_accuracy: 0.9667 - 1s/epoch - 17ms/step\n",
            "Epoch 6/30\n",
            "90/90 - 1s - loss: 0.0340 - accuracy: 0.9920 - val_loss: 0.0927 - val_accuracy: 0.9694 - 1s/epoch - 16ms/step\n",
            "Epoch 7/30\n",
            "90/90 - 1s - loss: 0.0195 - accuracy: 0.9948 - val_loss: 0.1146 - val_accuracy: 0.9722 - 1s/epoch - 17ms/step\n",
            "Epoch 8/30\n",
            "90/90 - 1s - loss: 0.0350 - accuracy: 0.9910 - val_loss: 0.1157 - val_accuracy: 0.9667 - 1s/epoch - 16ms/step\n",
            "Epoch 9/30\n",
            "90/90 - 1s - loss: 0.0220 - accuracy: 0.9951 - val_loss: 0.1166 - val_accuracy: 0.9750 - 1s/epoch - 16ms/step\n",
            "Epoch 10/30\n",
            "90/90 - 2s - loss: 0.0212 - accuracy: 0.9965 - val_loss: 0.1358 - val_accuracy: 0.9653 - 2s/epoch - 17ms/step\n",
            "Epoch 11/30\n",
            "90/90 - 1s - loss: 0.0193 - accuracy: 0.9955 - val_loss: 0.1141 - val_accuracy: 0.9708 - 1s/epoch - 17ms/step\n",
            "Epoch 12/30\n",
            "90/90 - 2s - loss: 0.0146 - accuracy: 0.9965 - val_loss: 0.1311 - val_accuracy: 0.9708 - 2s/epoch - 17ms/step\n",
            "Epoch 13/30\n",
            "90/90 - 1s - loss: 0.0127 - accuracy: 0.9969 - val_loss: 0.1539 - val_accuracy: 0.9653 - 1s/epoch - 16ms/step\n",
            "Epoch 14/30\n",
            "90/90 - 1s - loss: 0.0237 - accuracy: 0.9934 - val_loss: 0.1484 - val_accuracy: 0.9708 - 1s/epoch - 17ms/step\n",
            "Epoch 15/30\n",
            "90/90 - 1s - loss: 0.0219 - accuracy: 0.9955 - val_loss: 0.1775 - val_accuracy: 0.9625 - 1s/epoch - 17ms/step\n",
            "Epoch 16/30\n",
            "90/90 - 2s - loss: 0.0239 - accuracy: 0.9951 - val_loss: 0.1659 - val_accuracy: 0.9667 - 2s/epoch - 17ms/step\n",
            "Epoch 17/30\n",
            "90/90 - 2s - loss: 0.0202 - accuracy: 0.9948 - val_loss: 0.1482 - val_accuracy: 0.9736 - 2s/epoch - 17ms/step\n",
            "Epoch 18/30\n",
            "90/90 - 1s - loss: 0.0127 - accuracy: 0.9979 - val_loss: 0.1498 - val_accuracy: 0.9736 - 1s/epoch - 16ms/step\n",
            "Epoch 19/30\n",
            "90/90 - 1s - loss: 0.0156 - accuracy: 0.9965 - val_loss: 0.1363 - val_accuracy: 0.9736 - 1s/epoch - 16ms/step\n",
            "Epoch 20/30\n",
            "90/90 - 1s - loss: 0.0082 - accuracy: 0.9965 - val_loss: 0.1681 - val_accuracy: 0.9750 - 1s/epoch - 16ms/step\n",
            "Epoch 21/30\n",
            "90/90 - 2s - loss: 0.0146 - accuracy: 0.9969 - val_loss: 0.1483 - val_accuracy: 0.9750 - 2s/epoch - 17ms/step\n",
            "Epoch 22/30\n",
            "90/90 - 1s - loss: 0.0081 - accuracy: 0.9972 - val_loss: 0.1780 - val_accuracy: 0.9736 - 1s/epoch - 16ms/step\n",
            "Epoch 23/30\n",
            "90/90 - 1s - loss: 0.0122 - accuracy: 0.9976 - val_loss: 0.1840 - val_accuracy: 0.9708 - 1s/epoch - 16ms/step\n",
            "Epoch 24/30\n",
            "90/90 - 2s - loss: 0.0085 - accuracy: 0.9976 - val_loss: 0.1775 - val_accuracy: 0.9708 - 2s/epoch - 17ms/step\n",
            "Epoch 25/30\n",
            "90/90 - 1s - loss: 0.0104 - accuracy: 0.9976 - val_loss: 0.2106 - val_accuracy: 0.9639 - 1s/epoch - 16ms/step\n",
            "Epoch 26/30\n",
            "90/90 - 1s - loss: 0.0250 - accuracy: 0.9931 - val_loss: 0.2521 - val_accuracy: 0.9583 - 1s/epoch - 16ms/step\n",
            "Epoch 27/30\n",
            "90/90 - 2s - loss: 0.0195 - accuracy: 0.9941 - val_loss: 0.2238 - val_accuracy: 0.9653 - 2s/epoch - 17ms/step\n",
            "Epoch 28/30\n",
            "90/90 - 2s - loss: 0.0130 - accuracy: 0.9962 - val_loss: 0.1717 - val_accuracy: 0.9750 - 2s/epoch - 17ms/step\n",
            "Epoch 29/30\n",
            "90/90 - 1s - loss: 0.0101 - accuracy: 0.9972 - val_loss: 0.1947 - val_accuracy: 0.9708 - 1s/epoch - 16ms/step\n",
            "Epoch 30/30\n",
            "90/90 - 2s - loss: 0.0102 - accuracy: 0.9969 - val_loss: 0.1744 - val_accuracy: 0.9681 - 2s/epoch - 19ms/step\n"
          ]
        }
      ]
    },
    {
      "cell_type": "code",
      "source": [
        "acc = history.history['accuracy']\n",
        "val_acc = history.history['val_accuracy']\n",
        "loss = history.history['loss']\n",
        "val_loss = history.history['val_loss']\n",
        "epochs = range(len(acc))\n",
        "\n",
        "plt.plot(epochs, acc, 'r', label='Training accuracy')\n",
        "plt.plot(epochs, val_acc, 'b', label='Validation accuracy')\n",
        "plt.title('Training and validation accuracy')\n",
        "plt.legend(loc=0)\n",
        "plt.figure()\n",
        "\n",
        "plt.plot(epochs, loss, 'r', label='Training loss')\n",
        "plt.plot(epochs, val_loss, 'b', label='Validation loss')\n",
        "plt.title('Training and validation loss')\n",
        "plt.legend(loc=0)\n",
        "\n",
        "plt.show()\n"
      ],
      "metadata": {
        "colab": {
          "base_uri": "https://localhost:8080/",
          "height": 545
        },
        "id": "0hBqRfb3P_fQ",
        "outputId": "757d2680-fa47-4359-f58e-54fc01ebebbc"
      },
      "execution_count": null,
      "outputs": [
        {
          "output_type": "display_data",
          "data": {
            "text/plain": [
              "<Figure size 432x288 with 1 Axes>"
            ],
            "image/png": "[encoded data removed]"
          },
          "metadata": {
            "needs_background": "light"
          }
        },
        {
          "output_type": "display_data",
          "data": {
            "text/plain": [
              "<Figure size 432x288 with 1 Axes>"
            ],
            "image/png": "[encoded data removed]"
          },
          "metadata": {
            "needs_background": "light"
          }
        }
      ]
    },
    {
      "cell_type": "code",
      "source": [
        "print('Training Accuracy: {}'.format(max(acc)))\n",
        "print('Validation Accuracy: {}'.format(max(val_acc)))"
      ],
      "metadata": {
        "colab": {
          "base_uri": "https://localhost:8080/"
        },
        "id": "0sXKhRh6QFjt",
        "outputId": "fd71032f-c688-4111-c1b7-83b9e21b3fed"
      },
      "execution_count": null,
      "outputs": [
        {
          "output_type": "stream",
          "name": "stdout",
          "text": [
            "Training Accuracy: 0.9979159235954285\n",
            "Validation Accuracy: 0.9763888716697693\n"
          ]
        }
      ]
    }
  ]
}