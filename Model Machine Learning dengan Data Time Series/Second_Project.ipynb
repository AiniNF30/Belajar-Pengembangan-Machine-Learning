{
  "cells": [
    {
      "cell_type": "code",
      "execution_count": 3,
      "metadata": {
        "id": "ZUSY1faU7GoC"
      },
      "outputs": [],
      "source": [
        "# Dataframe\n",
        "import pandas as pd\n",
        "import numpy as np\n",
        "\n",
        "# Split Data\n",
        "from sklearn.model_selection import train_test_split\n",
        "\n",
        "# Preprocessing dan Layer\n",
        "import sklearn.preprocessing\n",
        "import tensorflow as tf\n",
        "from keras.models import Sequential\n",
        "from keras.layers import LSTM, Dense, Bidirectional, Dropout\n",
        "from sklearn.metrics import r2_score\n",
        "\n",
        "# Visualisasi Plot\n",
        "import matplotlib.pyplot as plt\n",
        "from plotly import graph_objs as go"
      ]
    },
    {
      "cell_type": "code",
      "execution_count": 4,
      "metadata": {
        "colab": {
          "base_uri": "https://localhost:8080/",
          "height": 424
        },
        "id": "n318Xnwh79om",
        "outputId": "70f09018-92ea-4372-fe76-60e32d51e8c4"
      },
      "outputs": [
        {
          "output_type": "execute_result",
          "data": {
            "text/plain": [
              "                  Datetime  COMED_MW\n",
              "0      2011-12-31 01:00:00    9970.0\n",
              "1      2011-12-31 02:00:00    9428.0\n",
              "2      2011-12-31 03:00:00    9059.0\n",
              "3      2011-12-31 04:00:00    8817.0\n",
              "4      2011-12-31 05:00:00    8743.0\n",
              "...                    ...       ...\n",
              "66492  2018-01-01 20:00:00   13858.0\n",
              "66493  2018-01-01 21:00:00   13758.0\n",
              "66494  2018-01-01 22:00:00   13627.0\n",
              "66495  2018-01-01 23:00:00   13336.0\n",
              "66496  2018-01-02 00:00:00   12816.0\n",
              "\n",
              "[66497 rows x 2 columns]"
            ],
            "text/html": [
              "\n",
              "  <div id=\"df-447b633e-e850-4c30-ae57-70bf6a2b39a1\">\n",
              "    <div class=\"colab-df-container\">\n",
              "      <div>\n",
              "<style scoped>\n",
              "    .dataframe tbody tr th:only-of-type {\n",
              "        vertical-align: middle;\n",
              "    }\n",
              "\n",
              "    .dataframe tbody tr th {\n",
              "        vertical-align: top;\n",
              "    }\n",
              "\n",
              "    .dataframe thead th {\n",
              "        text-align: right;\n",
              "    }\n",
              "</style>\n",
              "<table border=\"1\" class=\"dataframe\">\n",
              "  <thead>\n",
              "    <tr style=\"text-align: right;\">\n",
              "      <th></th>\n",
              "      <th>Datetime</th>\n",
              "      <th>COMED_MW</th>\n",
              "    </tr>\n",
              "  </thead>\n",
              "  <tbody>\n",
              "    <tr>\n",
              "      <th>0</th>\n",
              "      <td>2011-12-31 01:00:00</td>\n",
              "      <td>9970.0</td>\n",
              "    </tr>\n",
              "    <tr>\n",
              "      <th>1</th>\n",
              "      <td>2011-12-31 02:00:00</td>\n",
              "      <td>9428.0</td>\n",
              "    </tr>\n",
              "    <tr>\n",
              "      <th>2</th>\n",
              "      <td>2011-12-31 03:00:00</td>\n",
              "      <td>9059.0</td>\n",
              "    </tr>\n",
              "    <tr>\n",
              "      <th>3</th>\n",
              "      <td>2011-12-31 04:00:00</td>\n",
              "      <td>8817.0</td>\n",
              "    </tr>\n",
              "    <tr>\n",
              "      <th>4</th>\n",
              "      <td>2011-12-31 05:00:00</td>\n",
              "      <td>8743.0</td>\n",
              "    </tr>\n",
              "    <tr>\n",
              "      <th>...</th>\n",
              "      <td>...</td>\n",
              "      <td>...</td>\n",
              "    </tr>\n",
              "    <tr>\n",
              "      <th>66492</th>\n",
              "      <td>2018-01-01 20:00:00</td>\n",
              "      <td>13858.0</td>\n",
              "    </tr>\n",
              "    <tr>\n",
              "      <th>66493</th>\n",
              "      <td>2018-01-01 21:00:00</td>\n",
              "      <td>13758.0</td>\n",
              "    </tr>\n",
              "    <tr>\n",
              "      <th>66494</th>\n",
              "      <td>2018-01-01 22:00:00</td>\n",
              "      <td>13627.0</td>\n",
              "    </tr>\n",
              "    <tr>\n",
              "      <th>66495</th>\n",
              "      <td>2018-01-01 23:00:00</td>\n",
              "      <td>13336.0</td>\n",
              "    </tr>\n",
              "    <tr>\n",
              "      <th>66496</th>\n",
              "      <td>2018-01-02 00:00:00</td>\n",
              "      <td>12816.0</td>\n",
              "    </tr>\n",
              "  </tbody>\n",
              "</table>\n",
              "<p>66497 rows × 2 columns</p>\n",
              "</div>\n",
              "      <button class=\"colab-df-convert\" onclick=\"convertToInteractive('df-447b633e-e850-4c30-ae57-70bf6a2b39a1')\"\n",
              "              title=\"Convert this dataframe to an interactive table.\"\n",
              "              style=\"display:none;\">\n",
              "        \n",
              "  <svg xmlns=\"http://www.w3.org/2000/svg\" height=\"24px\"viewBox=\"0 0 24 24\"\n",
              "       width=\"24px\">\n",
              "    <path d=\"M0 0h24v24H0V0z\" fill=\"none\"/>\n",
              "    <path d=\"M18.56 5.44l.94 2.06.94-2.06 2.06-.94-2.06-.94-.94-2.06-.94 2.06-2.06.94zm-11 1L8.5 8.5l.94-2.06 2.06-.94-2.06-.94L8.5 2.5l-.94 2.06-2.06.94zm10 10l.94 2.06.94-2.06 2.06-.94-2.06-.94-.94-2.06-.94 2.06-2.06.94z\"/><path d=\"M17.41 7.96l-1.37-1.37c-.4-.4-.92-.59-1.43-.59-.52 0-1.04.2-1.43.59L10.3 9.45l-7.72 7.72c-.78.78-.78 2.05 0 2.83L4 21.41c.39.39.9.59 1.41.59.51 0 1.02-.2 1.41-.59l7.78-7.78 2.81-2.81c.8-.78.8-2.07 0-2.86zM5.41 20L4 18.59l7.72-7.72 1.47 1.35L5.41 20z\"/>\n",
              "  </svg>\n",
              "      </button>\n",
              "      \n",
              "  <style>\n",
              "    .colab-df-container {\n",
              "      display:flex;\n",
              "      flex-wrap:wrap;\n",
              "      gap: 12px;\n",
              "    }\n",
              "\n",
              "    .colab-df-convert {\n",
              "      background-color: #E8F0FE;\n",
              "      border: none;\n",
              "      border-radius: 50%;\n",
              "      cursor: pointer;\n",
              "      display: none;\n",
              "      fill: #1967D2;\n",
              "      height: 32px;\n",
              "      padding: 0 0 0 0;\n",
              "      width: 32px;\n",
              "    }\n",
              "\n",
              "    .colab-df-convert:hover {\n",
              "      background-color: #E2EBFA;\n",
              "      box-shadow: 0px 1px 2px rgba(60, 64, 67, 0.3), 0px 1px 3px 1px rgba(60, 64, 67, 0.15);\n",
              "      fill: #174EA6;\n",
              "    }\n",
              "\n",
              "    [theme=dark] .colab-df-convert {\n",
              "      background-color: #3B4455;\n",
              "      fill: #D2E3FC;\n",
              "    }\n",
              "\n",
              "    [theme=dark] .colab-df-convert:hover {\n",
              "      background-color: #434B5C;\n",
              "      box-shadow: 0px 1px 3px 1px rgba(0, 0, 0, 0.15);\n",
              "      filter: drop-shadow(0px 1px 2px rgba(0, 0, 0, 0.3));\n",
              "      fill: #FFFFFF;\n",
              "    }\n",
              "  </style>\n",
              "\n",
              "      <script>\n",
              "        const buttonEl =\n",
              "          document.querySelector('#df-447b633e-e850-4c30-ae57-70bf6a2b39a1 button.colab-df-convert');\n",
              "        buttonEl.style.display =\n",
              "          google.colab.kernel.accessAllowed ? 'block' : 'none';\n",
              "\n",
              "        async function convertToInteractive(key) {\n",
              "          const element = document.querySelector('#df-447b633e-e850-4c30-ae57-70bf6a2b39a1');\n",
              "          const dataTable =\n",
              "            await google.colab.kernel.invokeFunction('convertToInteractive',\n",
              "                                                     [key], {});\n",
              "          if (!dataTable) return;\n",
              "\n",
              "          const docLinkHtml = 'Like what you see? Visit the ' +\n",
              "            '<a target=\"_blank\" href=https://colab.research.google.com/notebooks/data_table.ipynb>data table notebook</a>'\n",
              "            + ' to learn more about interactive tables.';\n",
              "          element.innerHTML = '';\n",
              "          dataTable['output_type'] = 'display_data';\n",
              "          await google.colab.output.renderOutput(dataTable, element);\n",
              "          const docLink = document.createElement('div');\n",
              "          docLink.innerHTML = docLinkHtml;\n",
              "          element.appendChild(docLink);\n",
              "        }\n",
              "      </script>\n",
              "    </div>\n",
              "  </div>\n",
              "  "
            ]
          },
          "metadata": {},
          "execution_count": 4
        }
      ],
      "source": [
        "df = pd.read_csv('/content/COMED_hourly.csv')\n",
        "df"
      ]
    },
    {
      "cell_type": "code",
      "execution_count": 5,
      "metadata": {
        "id": "V8bqczYX86v4",
        "colab": {
          "base_uri": "https://localhost:8080/"
        },
        "outputId": "654eeb85-841e-4a95-ae43-90dbb89da33c"
      },
      "outputs": [
        {
          "output_type": "execute_result",
          "data": {
            "text/plain": [
              "Datetime    0\n",
              "COMED_MW    0\n",
              "dtype: int64"
            ]
          },
          "metadata": {},
          "execution_count": 5
        }
      ],
      "source": [
        "df.isnull().sum()"
      ]
    },
    {
      "cell_type": "code",
      "execution_count": 6,
      "metadata": {
        "id": "0TtOb2jR86yY",
        "colab": {
          "base_uri": "https://localhost:8080/"
        },
        "outputId": "71dcaea9-fc23-4957-9dbd-1ecc1a8e9105"
      },
      "outputs": [
        {
          "output_type": "execute_result",
          "data": {
            "text/plain": [
              "(66497, 2)"
            ]
          },
          "metadata": {},
          "execution_count": 6
        }
      ],
      "source": [
        "def normalize_data(df):\n",
        "    scaler = sklearn.preprocessing.MinMaxScaler()\n",
        "    df['COMED_MW']=scaler.fit_transform(df['COMED_MW'].values.reshape(-1,1))\n",
        "    return df\n",
        "\n",
        "df_norm = normalize_data(df)\n",
        "df_norm.shape\n"
      ]
    },
    {
      "cell_type": "code",
      "execution_count": 7,
      "metadata": {
        "id": "8nenQ9vB860r",
        "colab": {
          "base_uri": "https://localhost:8080/",
          "height": 281
        },
        "outputId": "ff72edf6-fd2a-47cd-aace-da01e316953b"
      },
      "outputs": [
        {
          "output_type": "display_data",
          "data": {
            "text/plain": [
              "<Figure size 1152x288 with 1 Axes>"
            ],
            "image/png": "[encoded data removed]"
          },
          "metadata": {
            "needs_background": "light"
          }
        }
      ],
      "source": [
        "df_norm.plot(figsize=(16,4),legend=True)\n",
        "plt.title('Commonwealth Edison  (COMED) estimated energy consumption in Megawatts (MW) hourly power consumption data after Normalization')\n",
        "plt.show()"
      ]
    },
    {
      "cell_type": "code",
      "execution_count": 8,
      "metadata": {
        "id": "iXrBkrFX_zQW"
      },
      "outputs": [],
      "source": [
        "dates = df['Datetime'].values\n",
        "aep = df['COMED_MW'].values"
      ]
    },
    {
      "cell_type": "code",
      "execution_count": 9,
      "metadata": {
        "id": "fZNjBC2A863S",
        "colab": {
          "base_uri": "https://localhost:8080/"
        },
        "outputId": "c3d86643-b0df-4b6d-84c0-3a838d9df53c"
      },
      "outputs": [
        {
          "output_type": "execute_result",
          "data": {
            "text/plain": [
              "Datetime     object\n",
              "COMED_MW    float64\n",
              "dtype: object"
            ]
          },
          "metadata": {},
          "execution_count": 9
        }
      ],
      "source": [
        "df.dtypes"
      ]
    },
    {
      "cell_type": "code",
      "execution_count": 10,
      "metadata": {
        "id": "vRJqq1nXBGJC"
      },
      "outputs": [],
      "source": [
        "x_train, x_valid, y_train, y_valid = train_test_split(aep, dates, train_size=0.8, test_size=0.2, shuffle=False )"
      ]
    },
    {
      "cell_type": "code",
      "execution_count": 11,
      "metadata": {
        "id": "H98ZmU6MBUUy",
        "colab": {
          "base_uri": "https://localhost:8080/"
        },
        "outputId": "515fd2f5-aa8e-461b-ad96-7bebd6877bfc"
      },
      "outputs": [
        {
          "output_type": "stream",
          "name": "stdout",
          "text": [
            "Total Data Train :  53197\n",
            "Total Data Validation :  13300\n"
          ]
        }
      ],
      "source": [
        "print('Total Data Train : ',len(x_train))\n",
        "print('Total Data Validation : ',len(x_valid))"
      ]
    },
    {
      "cell_type": "code",
      "execution_count": 12,
      "metadata": {
        "id": "wmp2U6juBYEi"
      },
      "outputs": [],
      "source": [
        "def windowed_dataset(series, window_size, batch_size, shuffle_buffer):\n",
        "    series = tf.expand_dims(series, axis=-1)\n",
        "    ds = tf.data.Dataset.from_tensor_slices(series)\n",
        "    ds = ds.window(window_size + 1, shift=1, drop_remainder=True)\n",
        "    ds = ds.flat_map(lambda w: w.batch(window_size + 1))\n",
        "    ds = ds.shuffle(shuffle_buffer)\n",
        "    ds = ds.map(lambda w: (w[:-1], w[-1:]))\n",
        "    return ds.batch(batch_size).prefetch(1)"
      ]
    },
    {
      "cell_type": "code",
      "execution_count": 13,
      "metadata": {
        "id": "dCZ6o3YBB8GL"
      },
      "outputs": [],
      "source": [
        "train_set = windowed_dataset(x_train, window_size=60, batch_size=200, shuffle_buffer=1000)\n",
        "val_set = windowed_dataset(x_valid, window_size=60, batch_size=200, shuffle_buffer=1000)\n",
        "\n",
        "model = tf.keras.models.Sequential([\n",
        "                                    Bidirectional(tf.keras.layers.LSTM(60, return_sequences=True)),\n",
        "                                    Bidirectional(tf.keras.layers.LSTM(60, dropout=0.2)),\n",
        "                                    Dense(16, activation=\"relu\"),\n",
        "                                    Dropout(0.2),\n",
        "                                    Dense(8, activation=\"relu\"),\n",
        "                                    Dense(1),\n",
        "])"
      ]
    },
    {
      "cell_type": "code",
      "execution_count": 14,
      "metadata": {
        "id": "HJgEnlTHCFR1",
        "colab": {
          "base_uri": "https://localhost:8080/"
        },
        "outputId": "e0c35e68-15d4-4c5d-da46-aee907115d81"
      },
      "outputs": [
        {
          "output_type": "stream",
          "name": "stdout",
          "text": [
            "0.1\n"
          ]
        }
      ],
      "source": [
        "minMae = (df['COMED_MW'].max() - df['COMED_MW'].min()) * 10/100\n",
        "print(minMae)"
      ]
    },
    {
      "cell_type": "code",
      "execution_count": 15,
      "metadata": {
        "id": "1pJCMF3wENiZ"
      },
      "outputs": [],
      "source": [
        "class myCallback(tf.keras.callbacks.Callback):\n",
        "  def on_epoch_end(self, epoch, logs={}):\n",
        "    if(logs.get('mae') < minMae and logs.get('val_mae') < minMae):\n",
        "      print(\"\\MAE dari model < 10% skala data\")\n",
        "      self.model.stop_training = True\n",
        "callbacks = myCallback()"
      ]
    },
    {
      "cell_type": "code",
      "execution_count": 16,
      "metadata": {
        "id": "evN-ywtjESJ6",
        "colab": {
          "base_uri": "https://localhost:8080/"
        },
        "outputId": "9b074642-6190-473b-a1cf-88b007974074"
      },
      "outputs": [
        {
          "output_type": "stream",
          "name": "stdout",
          "text": [
            "Epoch 1/100\n",
            "266/266 [==============================] - 26s 54ms/step - loss: 0.0349 - mae: 0.2207 - val_loss: 0.0217 - val_mae: 0.1646\n",
            "Epoch 2/100\n",
            "266/266 [==============================] - 13s 47ms/step - loss: 0.0209 - mae: 0.1564 - val_loss: 0.0137 - val_mae: 0.1217\n",
            "Epoch 3/100\n",
            "266/266 [==============================] - 16s 59ms/step - loss: 0.0147 - mae: 0.1255 - val_loss: 0.0104 - val_mae: 0.1049\n",
            "Epoch 4/100\n",
            "266/266 [==============================] - 12s 46ms/step - loss: 0.0120 - mae: 0.1122 - val_loss: 0.0092 - val_mae: 0.0994\n",
            "Epoch 5/100\n",
            "266/266 [==============================] - 12s 46ms/step - loss: 0.0108 - mae: 0.1069 - val_loss: 0.0088 - val_mae: 0.0983\n",
            "Epoch 6/100\n",
            "266/266 [==============================] - 12s 46ms/step - loss: 0.0103 - mae: 0.1048 - val_loss: 0.0087 - val_mae: 0.0988\n",
            "Epoch 7/100\n",
            "266/266 [==============================] - 13s 47ms/step - loss: 0.0100 - mae: 0.1043 - val_loss: 0.0087 - val_mae: 0.0996\n",
            "Epoch 8/100\n",
            "266/266 [==============================] - 12s 46ms/step - loss: 0.0099 - mae: 0.1041 - val_loss: 0.0087 - val_mae: 0.1002\n",
            "Epoch 9/100\n",
            "266/266 [==============================] - 12s 46ms/step - loss: 0.0099 - mae: 0.1041 - val_loss: 0.0087 - val_mae: 0.1006\n",
            "Epoch 10/100\n",
            "266/266 [==============================] - 12s 45ms/step - loss: 0.0098 - mae: 0.1042 - val_loss: 0.0087 - val_mae: 0.1009\n",
            "Epoch 11/100\n",
            "266/266 [==============================] - 12s 46ms/step - loss: 0.0098 - mae: 0.1041 - val_loss: 0.0087 - val_mae: 0.1010\n",
            "Epoch 12/100\n",
            "266/266 [==============================] - 13s 47ms/step - loss: 0.0097 - mae: 0.1041 - val_loss: 0.0087 - val_mae: 0.1010\n",
            "Epoch 13/100\n",
            "266/266 [==============================] - 14s 51ms/step - loss: 0.0097 - mae: 0.1041 - val_loss: 0.0087 - val_mae: 0.1009\n",
            "Epoch 14/100\n",
            "266/266 [==============================] - 12s 46ms/step - loss: 0.0097 - mae: 0.1039 - val_loss: 0.0087 - val_mae: 0.1009\n",
            "Epoch 15/100\n",
            "266/266 [==============================] - 13s 47ms/step - loss: 0.0097 - mae: 0.1038 - val_loss: 0.0087 - val_mae: 0.1009\n",
            "Epoch 16/100\n",
            "266/266 [==============================] - 13s 47ms/step - loss: 0.0097 - mae: 0.1037 - val_loss: 0.0087 - val_mae: 0.1008\n",
            "Epoch 17/100\n",
            "266/266 [==============================] - 12s 46ms/step - loss: 0.0096 - mae: 0.1036 - val_loss: 0.0087 - val_mae: 0.1007\n",
            "Epoch 18/100\n",
            "266/266 [==============================] - 12s 46ms/step - loss: 0.0096 - mae: 0.1036 - val_loss: 0.0086 - val_mae: 0.1007\n",
            "Epoch 19/100\n",
            "266/266 [==============================] - 12s 46ms/step - loss: 0.0096 - mae: 0.1035 - val_loss: 0.0086 - val_mae: 0.1006\n",
            "Epoch 20/100\n",
            "266/266 [==============================] - 12s 46ms/step - loss: 0.0096 - mae: 0.1034 - val_loss: 0.0086 - val_mae: 0.1006\n",
            "Epoch 21/100\n",
            "266/266 [==============================] - 14s 51ms/step - loss: 0.0096 - mae: 0.1034 - val_loss: 0.0086 - val_mae: 0.1007\n",
            "Epoch 22/100\n",
            "266/266 [==============================] - 13s 47ms/step - loss: 0.0096 - mae: 0.1034 - val_loss: 0.0086 - val_mae: 0.1007\n",
            "Epoch 23/100\n",
            "266/266 [==============================] - 12s 46ms/step - loss: 0.0096 - mae: 0.1034 - val_loss: 0.0086 - val_mae: 0.1007\n",
            "Epoch 24/100\n",
            "266/266 [==============================] - 12s 46ms/step - loss: 0.0095 - mae: 0.1033 - val_loss: 0.0086 - val_mae: 0.1007\n",
            "Epoch 25/100\n",
            "266/266 [==============================] - 12s 46ms/step - loss: 0.0095 - mae: 0.1034 - val_loss: 0.0086 - val_mae: 0.1007\n",
            "Epoch 26/100\n",
            "266/266 [==============================] - 12s 45ms/step - loss: 0.0095 - mae: 0.1033 - val_loss: 0.0086 - val_mae: 0.1007\n",
            "Epoch 27/100\n",
            "266/266 [==============================] - 12s 46ms/step - loss: 0.0095 - mae: 0.1033 - val_loss: 0.0086 - val_mae: 0.1007\n",
            "Epoch 28/100\n",
            "266/266 [==============================] - 12s 45ms/step - loss: 0.0095 - mae: 0.1033 - val_loss: 0.0086 - val_mae: 0.1006\n",
            "Epoch 29/100\n",
            "266/266 [==============================] - 13s 50ms/step - loss: 0.0095 - mae: 0.1032 - val_loss: 0.0086 - val_mae: 0.1006\n",
            "Epoch 30/100\n",
            "266/266 [==============================] - 12s 46ms/step - loss: 0.0095 - mae: 0.1032 - val_loss: 0.0086 - val_mae: 0.1006\n",
            "Epoch 31/100\n",
            "266/266 [==============================] - 12s 46ms/step - loss: 0.0095 - mae: 0.1032 - val_loss: 0.0086 - val_mae: 0.1006\n",
            "Epoch 32/100\n",
            "266/266 [==============================] - 12s 46ms/step - loss: 0.0095 - mae: 0.1031 - val_loss: 0.0086 - val_mae: 0.1005\n",
            "Epoch 33/100\n",
            "266/266 [==============================] - 12s 45ms/step - loss: 0.0095 - mae: 0.1031 - val_loss: 0.0086 - val_mae: 0.1005\n",
            "Epoch 34/100\n",
            "266/266 [==============================] - 12s 46ms/step - loss: 0.0095 - mae: 0.1030 - val_loss: 0.0086 - val_mae: 0.1004\n",
            "Epoch 35/100\n",
            "266/266 [==============================] - 12s 45ms/step - loss: 0.0095 - mae: 0.1030 - val_loss: 0.0085 - val_mae: 0.1004\n",
            "Epoch 36/100\n",
            "266/266 [==============================] - 14s 51ms/step - loss: 0.0095 - mae: 0.1030 - val_loss: 0.0085 - val_mae: 0.1004\n",
            "Epoch 37/100\n",
            "266/266 [==============================] - 12s 46ms/step - loss: 0.0095 - mae: 0.1029 - val_loss: 0.0085 - val_mae: 0.1003\n",
            "Epoch 38/100\n",
            "266/266 [==============================] - 13s 50ms/step - loss: 0.0094 - mae: 0.1029 - val_loss: 0.0085 - val_mae: 0.1003\n",
            "Epoch 39/100\n",
            "266/266 [==============================] - 12s 45ms/step - loss: 0.0094 - mae: 0.1028 - val_loss: 0.0085 - val_mae: 0.1002\n",
            "Epoch 40/100\n",
            "266/266 [==============================] - 12s 45ms/step - loss: 0.0094 - mae: 0.1028 - val_loss: 0.0085 - val_mae: 0.1002\n",
            "Epoch 41/100\n",
            "266/266 [==============================] - 12s 45ms/step - loss: 0.0094 - mae: 0.1028 - val_loss: 0.0085 - val_mae: 0.1001\n",
            "Epoch 42/100\n",
            "266/266 [==============================] - 12s 45ms/step - loss: 0.0094 - mae: 0.1027 - val_loss: 0.0085 - val_mae: 0.1001\n",
            "Epoch 43/100\n",
            "266/266 [==============================] - 12s 45ms/step - loss: 0.0094 - mae: 0.1027 - val_loss: 0.0085 - val_mae: 0.1000\n",
            "Epoch 44/100\n",
            "266/266 [==============================] - 12s 45ms/step - loss: 0.0094 - mae: 0.1026 - val_loss: 0.0085 - val_mae: 0.1000\n",
            "Epoch 45/100\n",
            "266/266 [==============================] - 13s 50ms/step - loss: 0.0094 - mae: 0.1026 - val_loss: 0.0085 - val_mae: 0.0999\n",
            "Epoch 46/100\n",
            "266/266 [==============================] - 12s 45ms/step - loss: 0.0094 - mae: 0.1025 - val_loss: 0.0085 - val_mae: 0.0998\n",
            "Epoch 47/100\n",
            "266/266 [==============================] - 12s 45ms/step - loss: 0.0094 - mae: 0.1024 - val_loss: 0.0084 - val_mae: 0.0998\n",
            "Epoch 48/100\n",
            "266/266 [==============================] - 12s 46ms/step - loss: 0.0094 - mae: 0.1024 - val_loss: 0.0084 - val_mae: 0.0997\n",
            "Epoch 49/100\n",
            "266/266 [==============================] - 12s 45ms/step - loss: 0.0093 - mae: 0.1024 - val_loss: 0.0084 - val_mae: 0.0997\n",
            "Epoch 50/100\n",
            "266/266 [==============================] - 12s 46ms/step - loss: 0.0093 - mae: 0.1024 - val_loss: 0.0084 - val_mae: 0.0996\n",
            "Epoch 51/100\n",
            "266/266 [==============================] - 12s 45ms/step - loss: 0.0093 - mae: 0.1023 - val_loss: 0.0084 - val_mae: 0.0996\n",
            "Epoch 52/100\n",
            "266/266 [==============================] - 13s 49ms/step - loss: 0.0093 - mae: 0.1023 - val_loss: 0.0084 - val_mae: 0.0995\n",
            "Epoch 53/100\n",
            "266/266 [==============================] - 12s 46ms/step - loss: 0.0093 - mae: 0.1022 - val_loss: 0.0084 - val_mae: 0.0995\n",
            "Epoch 54/100\n",
            "266/266 [==============================] - 12s 46ms/step - loss: 0.0093 - mae: 0.1022 - val_loss: 0.0084 - val_mae: 0.0994\n",
            "Epoch 55/100\n",
            "266/266 [==============================] - 12s 46ms/step - loss: 0.0093 - mae: 0.1021 - val_loss: 0.0084 - val_mae: 0.0994\n",
            "Epoch 56/100\n",
            "266/266 [==============================] - 12s 46ms/step - loss: 0.0093 - mae: 0.1020 - val_loss: 0.0084 - val_mae: 0.0993\n",
            "Epoch 57/100\n",
            "266/266 [==============================] - 13s 46ms/step - loss: 0.0093 - mae: 0.1020 - val_loss: 0.0084 - val_mae: 0.0992\n",
            "Epoch 58/100\n",
            "266/266 [==============================] - 12s 46ms/step - loss: 0.0093 - mae: 0.1020 - val_loss: 0.0083 - val_mae: 0.0992\n",
            "Epoch 59/100\n",
            "266/266 [==============================] - 13s 47ms/step - loss: 0.0093 - mae: 0.1019 - val_loss: 0.0083 - val_mae: 0.0991\n",
            "Epoch 60/100\n",
            "266/266 [==============================] - 12s 46ms/step - loss: 0.0092 - mae: 0.1019 - val_loss: 0.0083 - val_mae: 0.0991\n",
            "Epoch 61/100\n",
            "266/266 [==============================] - 12s 46ms/step - loss: 0.0092 - mae: 0.1018 - val_loss: 0.0083 - val_mae: 0.0990\n",
            "Epoch 62/100\n",
            "266/266 [==============================] - 12s 45ms/step - loss: 0.0092 - mae: 0.1018 - val_loss: 0.0083 - val_mae: 0.0990\n",
            "Epoch 63/100\n",
            "266/266 [==============================] - 13s 48ms/step - loss: 0.0092 - mae: 0.1017 - val_loss: 0.0083 - val_mae: 0.0989\n",
            "Epoch 64/100\n",
            "266/266 [==============================] - 12s 45ms/step - loss: 0.0092 - mae: 0.1017 - val_loss: 0.0083 - val_mae: 0.0989\n",
            "Epoch 65/100\n",
            "266/266 [==============================] - 12s 46ms/step - loss: 0.0092 - mae: 0.1016 - val_loss: 0.0083 - val_mae: 0.0988\n",
            "Epoch 66/100\n",
            "266/266 [==============================] - 12s 45ms/step - loss: 0.0092 - mae: 0.1015 - val_loss: 0.0083 - val_mae: 0.0988\n",
            "Epoch 67/100\n",
            "266/266 [==============================] - 12s 46ms/step - loss: 0.0092 - mae: 0.1015 - val_loss: 0.0083 - val_mae: 0.0987\n",
            "Epoch 68/100\n",
            "266/266 [==============================] - 12s 45ms/step - loss: 0.0092 - mae: 0.1014 - val_loss: 0.0083 - val_mae: 0.0986\n",
            "Epoch 69/100\n",
            "266/266 [==============================] - 12s 45ms/step - loss: 0.0092 - mae: 0.1014 - val_loss: 0.0082 - val_mae: 0.0986\n",
            "Epoch 70/100\n",
            "266/266 [==============================] - 12s 46ms/step - loss: 0.0091 - mae: 0.1013 - val_loss: 0.0082 - val_mae: 0.0985\n",
            "Epoch 71/100\n",
            "266/266 [==============================] - 12s 46ms/step - loss: 0.0091 - mae: 0.1013 - val_loss: 0.0082 - val_mae: 0.0985\n",
            "Epoch 72/100\n",
            "266/266 [==============================] - 12s 45ms/step - loss: 0.0091 - mae: 0.1013 - val_loss: 0.0082 - val_mae: 0.0984\n",
            "Epoch 73/100\n",
            "266/266 [==============================] - 12s 46ms/step - loss: 0.0091 - mae: 0.1012 - val_loss: 0.0082 - val_mae: 0.0984\n",
            "Epoch 74/100\n",
            "266/266 [==============================] - 12s 45ms/step - loss: 0.0091 - mae: 0.1012 - val_loss: 0.0082 - val_mae: 0.0983\n",
            "Epoch 75/100\n",
            "266/266 [==============================] - 12s 46ms/step - loss: 0.0091 - mae: 0.1011 - val_loss: 0.0082 - val_mae: 0.0983\n",
            "Epoch 76/100\n",
            "266/266 [==============================] - 12s 46ms/step - loss: 0.0091 - mae: 0.1010 - val_loss: 0.0082 - val_mae: 0.0982\n",
            "Epoch 77/100\n",
            "266/266 [==============================] - 12s 46ms/step - loss: 0.0091 - mae: 0.1010 - val_loss: 0.0082 - val_mae: 0.0981\n",
            "Epoch 78/100\n",
            "266/266 [==============================] - 12s 45ms/step - loss: 0.0091 - mae: 0.1009 - val_loss: 0.0082 - val_mae: 0.0981\n",
            "Epoch 79/100\n",
            "266/266 [==============================] - 12s 46ms/step - loss: 0.0091 - mae: 0.1009 - val_loss: 0.0082 - val_mae: 0.0980\n",
            "Epoch 80/100\n",
            "266/266 [==============================] - 12s 46ms/step - loss: 0.0091 - mae: 0.1009 - val_loss: 0.0082 - val_mae: 0.0980\n",
            "Epoch 81/100\n",
            "266/266 [==============================] - 12s 45ms/step - loss: 0.0090 - mae: 0.1008 - val_loss: 0.0081 - val_mae: 0.0979\n",
            "Epoch 82/100\n",
            "266/266 [==============================] - 13s 48ms/step - loss: 0.0090 - mae: 0.1008 - val_loss: 0.0081 - val_mae: 0.0979\n",
            "Epoch 83/100\n",
            "266/266 [==============================] - 12s 46ms/step - loss: 0.0090 - mae: 0.1007 - val_loss: 0.0081 - val_mae: 0.0978\n",
            "Epoch 84/100\n",
            "266/266 [==============================] - 13s 47ms/step - loss: 0.0090 - mae: 0.1006 - val_loss: 0.0081 - val_mae: 0.0977\n",
            "Epoch 85/100\n",
            "266/266 [==============================] - 12s 46ms/step - loss: 0.0090 - mae: 0.1006 - val_loss: 0.0081 - val_mae: 0.0977\n",
            "Epoch 86/100\n",
            "266/266 [==============================] - 12s 46ms/step - loss: 0.0090 - mae: 0.1005 - val_loss: 0.0081 - val_mae: 0.0976\n",
            "Epoch 87/100\n",
            "266/266 [==============================] - 12s 46ms/step - loss: 0.0090 - mae: 0.1005 - val_loss: 0.0081 - val_mae: 0.0976\n",
            "Epoch 88/100\n",
            "266/266 [==============================] - 12s 46ms/step - loss: 0.0090 - mae: 0.1004 - val_loss: 0.0081 - val_mae: 0.0975\n",
            "Epoch 89/100\n",
            "266/266 [==============================] - 12s 46ms/step - loss: 0.0090 - mae: 0.1004 - val_loss: 0.0081 - val_mae: 0.0975\n",
            "Epoch 90/100\n",
            "266/266 [==============================] - 14s 52ms/step - loss: 0.0090 - mae: 0.1003 - val_loss: 0.0081 - val_mae: 0.0974\n",
            "Epoch 91/100\n",
            "266/266 [==============================] - 12s 46ms/step - loss: 0.0090 - mae: 0.1003 - val_loss: 0.0081 - val_mae: 0.0973\n",
            "Epoch 92/100\n",
            "266/266 [==============================] - 12s 46ms/step - loss: 0.0089 - mae: 0.1002 - val_loss: 0.0080 - val_mae: 0.0973\n",
            "Epoch 93/100\n",
            "266/266 [==============================] - 12s 45ms/step - loss: 0.0089 - mae: 0.1002 - val_loss: 0.0080 - val_mae: 0.0972\n",
            "Epoch 94/100\n",
            "266/266 [==============================] - 12s 45ms/step - loss: 0.0089 - mae: 0.1002 - val_loss: 0.0080 - val_mae: 0.0972\n",
            "Epoch 95/100\n",
            "266/266 [==============================] - 12s 45ms/step - loss: 0.0089 - mae: 0.1001 - val_loss: 0.0080 - val_mae: 0.0971\n",
            "Epoch 96/100\n",
            "266/266 [==============================] - 12s 46ms/step - loss: 0.0089 - mae: 0.1001 - val_loss: 0.0080 - val_mae: 0.0971\n",
            "Epoch 97/100\n",
            "265/266 [============================>.] - ETA: 0s - loss: 0.0089 - mae: 0.1000\\MAE dari model < 10% skala data\n",
            "266/266 [==============================] - 12s 45ms/step - loss: 0.0089 - mae: 0.0999 - val_loss: 0.0080 - val_mae: 0.0970\n"
          ]
        }
      ],
      "source": [
        "optimizer = tf.keras.optimizers.SGD(learning_rate=1.0000e-04, momentum=0.9)\n",
        "\n",
        "model.compile(loss=tf.keras.losses.Huber(),\n",
        "              optimizer=optimizer,\n",
        "              metrics=[\"mae\"])\n",
        "\n",
        "history = model.fit(train_set, epochs=100, validation_data=val_set, callbacks=[callbacks])\n"
      ]
    },
    {
      "cell_type": "code",
      "execution_count": 17,
      "metadata": {
        "id": "C5cUPFznYabR",
        "colab": {
          "base_uri": "https://localhost:8080/",
          "height": 350
        },
        "outputId": "fe121fe6-161e-441a-fbaf-01289276a4cf"
      },
      "outputs": [
        {
          "output_type": "display_data",
          "data": {
            "text/plain": [
              "<Figure size 1080x360 with 2 Axes>"
            ],
            "image/png": "[encoded data removed]"
          },
          "metadata": {
            "needs_background": "light"
          }
        }
      ],
      "source": [
        "figure = plt.figure(figsize = (15, 5))\n",
        "\n",
        "figure.add_subplot(1, 2, 1)\n",
        "plt.plot(history.history['mae'])\n",
        "plt.plot(history.history['val_mae'])\n",
        "plt.title('Mae and Validation Mae Plot')\n",
        "plt.xlabel('Value')\n",
        "plt.ylabel('Epoch')\n",
        "plt.legend(['Train', 'Validation'], loc = 'lower right')\n",
        "\n",
        "figure.add_subplot(1, 2, 2)\n",
        "plt.plot(history.history['loss'])\n",
        "plt.plot(history.history['val_loss'])\n",
        "plt.title('Loss Plot')\n",
        "plt.xlabel('Value')\n",
        "plt.ylabel('Epoch')\n",
        "plt.legend(['Train', 'Validation'], loc = 'upper right')\n",
        "\n",
        "plt.show()"
      ]
    }
  ],
  "metadata": {
    "colab": {
      "provenance": []
    },
    "kernelspec": {
      "display_name": "Python 3",
      "name": "python3"
    },
    "language_info": {
      "name": "python"
    },
    "accelerator": "GPU",
    "gpuClass": "standard"
  },
  "nbformat": 4,
  "nbformat_minor": 0
}